{
 "cells": [
  {
   "cell_type": "markdown",
   "source": [
    "# Info Personal\n",
    "\n",
    "*Nombre:* José Manuel Haces\n",
    "\n",
    "*Edad:* 20\n",
    "\n",
    "*Lugar de Nacimiento:* Guadalajara, Jalisco, México"
   ],
   "metadata": {
    "collapsed": false,
    "pycharm": {
     "name": "#%% md\n"
    }
   }
  },
  {
   "cell_type": "markdown",
   "source": [
    "# ¿Qué entendimos?\n",
    "## GitPull\n",
    "- GitPull es para actualizar tu repo local con el remoto (puedes elegir una branch de la cual obtenerla).\n",
    "\n",
    "\n",
    "## GitMerge\n",
    "- GitMerge es cuando tienes dos repos y quieres uno solo que sea la combinación de ellos (dos padres obtener un hijo).\n",
    "\n",
    "\n",
    "## GitRebase\n",
    "- Hace que una branch sea la 'padre' o la base, y a partir de ella agrega los cambios que tenga la otra branch."
   ],
   "metadata": {
    "collapsed": false,
    "pycharm": {
     "name": "#%% md\n"
    }
   }
  },
  {
   "cell_type": "markdown",
   "source": [
    "# Función de Agregación Nombres"
   ],
   "metadata": {
    "collapsed": false,
    "pycharm": {
     "name": "#%% md\n"
    }
   }
  },
  {
   "cell_type": "code",
   "execution_count": 1,
   "outputs": [],
   "source": [
    "def add_names(first_name, last_name):\n",
    "    return f'Mi nombre completo es: \"{first_name} {last_name}\"'"
   ],
   "metadata": {
    "collapsed": false,
    "pycharm": {
     "name": "#%%\n"
    }
   }
  },
  {
   "cell_type": "code",
   "execution_count": 2,
   "outputs": [
    {
     "data": {
      "text/plain": "'Mi nombre completo es: \"José Manuel Haces\"'"
     },
     "execution_count": 2,
     "metadata": {},
     "output_type": "execute_result"
    }
   ],
   "source": [
    "nombre = add_names('José Manuel', 'Haces')\n",
    "nombre"
   ],
   "metadata": {
    "collapsed": false,
    "pycharm": {
     "name": "#%%\n"
    }
   }
  }
 ],
 "metadata": {
  "kernelspec": {
   "display_name": "Python 3",
   "language": "python",
   "name": "python3"
  },
  "language_info": {
   "codemirror_mode": {
    "name": "ipython",
    "version": 2
   },
   "file_extension": ".py",
   "mimetype": "text/x-python",
   "name": "python",
   "nbconvert_exporter": "python",
   "pygments_lexer": "ipython2",
   "version": "2.7.6"
  }
 },
 "nbformat": 4,
 "nbformat_minor": 0
}